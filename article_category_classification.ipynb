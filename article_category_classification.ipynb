{
 "cells": [
  {
   "cell_type": "markdown",
   "metadata": {},
   "source": [
    "## Import Library"
   ]
  },
  {
   "cell_type": "code",
   "execution_count": 1,
   "metadata": {},
   "outputs": [],
   "source": [
    "# utility\n",
    "import os\n",
    "import numpy as np\n",
    "os.environ[\"CUDA_VISIBLE_DEVICES\"]=\"3\"\n",
    "\n",
    "# keras tensorflow wrapper\n",
    "from tensorflow.python.keras.preprocessing.image import ImageDataGenerator\n",
    "from tensorflow.python.keras.applications import InceptionV3, Xception\n",
    "from tensorflow.python.keras.models import Sequential\n",
    "from tensorflow.python.keras.layers import Dense, GlobalAveragePooling2D\n",
    "from tensorflow.python.keras.metrics import top_k_categorical_accuracy\n",
    "from tensorflow.python.keras.callbacks import ModelCheckpoint, CSVLogger\n",
    "from tensorflow.python.keras.optimizers import Adam\n",
    "\n",
    "# scikit-learn helper function\n",
    "from sklearn.utils.class_weight import compute_class_weight"
   ]
  },
  {
   "cell_type": "markdown",
   "metadata": {},
   "source": [
    "## Helper functions"
   ]
  },
  {
   "cell_type": "code",
   "execution_count": 2,
   "metadata": {},
   "outputs": [],
   "source": [
    "def top_3_accuracy(true, pred):\n",
    "    return top_k_categorical_accuracy(true, pred, k=3)\n",
    "\n",
    "def path_join(dirname, img_paths):\n",
    "    return [os.path.join(dirname, img_path) for img_path in img_paths]"
   ]
  },
  {
   "cell_type": "markdown",
   "metadata": {},
   "source": [
    "## 이미지 데이터 전처리 및 generator 생성"
   ]
  },
  {
   "cell_type": "code",
   "execution_count": 12,
   "metadata": {},
   "outputs": [
    {
     "name": "stdout",
     "output_type": "stream",
     "text": [
      "Found 673383 images belonging to 19 classes.\n",
      "Found 74813 images belonging to 19 classes.\n"
     ]
    }
   ],
   "source": [
    "TRAIN_PATH = '../training'\n",
    "datagen = ImageDataGenerator(rescale=1./255,\n",
    "                             validation_split=0.1)\n",
    "\n",
    "batch_size = 32\n",
    "input_shape = (224,224)\n",
    "\n",
    "generator_train = datagen.flow_from_directory(directory=TRAIN_PATH,\n",
    "                                              target_size=input_shape,\n",
    "                                              shuffle=True,\n",
    "                                              subset=\"training\"\n",
    "                                              )\n",
    "\n",
    "generator_validate = datagen.flow_from_directory(directory=TRAIN_PATH,\n",
    "                                                 target_size=input_shape,\n",
    "                                                 shuffle=False,\n",
    "                                                 subset=\"validation\"\n",
    "                                                 )\n",
    "steps_train = generator_train.n / batch_size\n",
    "steps_validate = generator_validate.n / batch_size\n",
    "\n",
    "cls_train = generator_train.classes\n",
    "cls_validate = generator_validate.classes\n",
    "\n",
    "num_classes = generator_train.num_classes\n",
    "\n",
    "class_weight = compute_class_weight(class_weight='balanced',\n",
    "                                    classes=np.unique(cls_train),\n",
    "                                    y=cls_train) "
   ]
  },
  {
   "cell_type": "markdown",
   "metadata": {},
   "source": [
    "## 모델 정의 및 구축"
   ]
  },
  {
   "cell_type": "code",
   "execution_count": 22,
   "metadata": {},
   "outputs": [],
   "source": [
    "class Model():\n",
    "    def __init__(self, name, class_weight, params):\n",
    "        assert name != '', \"Model name needs to be specified\"\n",
    "        self.name = name\n",
    "        self.trained = False   \n",
    "        \n",
    "    def construct_model(self):\n",
    "        if self.name == 'inceptionv3':\n",
    "            print('{:=^75}'.format('Downloading {}'.format(self.name)))\n",
    "            self.base_model = InceptionV3(**params['network_params'])\n",
    "            print('{:=^75}'.format('Download Complete'))\n",
    "            \n",
    "        elif self.name == 'xception':\n",
    "            print('{:=^75}'.format('Downloading {}'.format(self.name)))\n",
    "            self.base_model = Xception(**params['network_params'])\n",
    "            print('{:=^75}'.format('Download Complete'))\n",
    "            \n",
    "            \n",
    "        # 모델 구조  base model -> global average pooling -> dense\n",
    "        print('{:=^75}'.format('Adding layers'))\n",
    "        self.model = Sequential()\n",
    "        self.model.add(self.base_model)\n",
    "        self.model.add(GlobalAveragePooling2D())\n",
    "        self.model.add(Dense(params['num_classes'], activation='softmax'))\n",
    "        print('{:=^75}'.format('Added layers'))\n",
    "    \n",
    "        # 지정 경로에 저장\n",
    "        if not os.path.exists('weight_path/'):\n",
    "            os.mkdir('weight_path/')\n",
    "        self.weight_save_path = os.path.join('weight_path/', self.name + \"_weights.h5\")\n",
    "        \n",
    "        print('{:=^75}'.format('Saving weights to {}'.format(self.weight_save_path)))\n",
    "        self.model.save_weights(self.weight_save_path)\n",
    "        print('{:=^75}'.format('Saved weights'))\n",
    "    \n",
    "    \n",
    "    # train with feature extraction\n",
    "    def train(self):\n",
    "        if self.trained == True:\n",
    "            self.model.load_weights(self.weight_save_path)\n",
    "            self.trained = False\n",
    "        \n",
    "        # parma validation\n",
    "        assert params['mode'] in ['fe', 'ft'], \"mode must be either 'fe' or 'ft'\"\n",
    "        \n",
    "        # 레이어 trainable 지정\n",
    "        # feature extraction\n",
    "        if params['mode'] == 'fe':\n",
    "            self.model.layers[0].trainable = False\n",
    "            \n",
    "        # finetuning\n",
    "        elif params['mode'] == 'ft':\n",
    "            self.model.layers[0].trainable = True\n",
    "    \n",
    "            \n",
    "        # compile the model with designated parameters    \n",
    "        self.model.compile(optimizer=Adam(lr=params['lr']),\n",
    "                           loss='categorical_crossentropy',\n",
    "                           metrics=['categorical_accuracy', top_3_accuracy])\n",
    "        \n",
    "        if not os.path.exists(params['log_path']):\n",
    "            os.mkdir(params['log_path'])\n",
    "        \n",
    "        if not os.path.exists(params['cp_path']):\n",
    "            os.mkdir(params['cp_path'])\n",
    "        \n",
    "        # csv logger callback \n",
    "        log_path = os.path.join(params['log_path'], self.name + '_' + params['mode'] + '.log')\n",
    "        csvlog_callback = CSVLogger(log_path)\n",
    "        \n",
    "        # checkpoint callback \n",
    "        cp_path = os.path.join(params['cp_path'], self.name + '_' + params['mode'] + '-{epoch:04d}-{val_loss:.2f}.h5')\n",
    "        cp_callback = ModelCheckpoint(cp_path,\n",
    "                                      mode=\"max\",\n",
    "                                      save_best_only=True)\n",
    "        \n",
    "        print('{:=^75}'.format('training {} with {}'.format(self.name, params['mode'])))\n",
    "        # actual data fitting\n",
    "        self.model.fit_generator(generator=generator_train,\n",
    "                                  epochs=params['epoch'],\n",
    "                                  class_weight=class_weight,\n",
    "                                  validation_data=generator_validate,\n",
    "                                  validation_steps=steps_validate,\n",
    "                                  callbacks=[cp_callback, csvlog_callback])\n",
    "        \n",
    "        # save model once done training    \n",
    "        if not os.path.exists(params['model_path']):\n",
    "            os.mkdir(params['model_path'])\n",
    "            \n",
    "        model_save_path = os.path.join(params['model_path'], model.name + '_' + params['mode'] + '.h5')\n",
    "        self.model.save(model_save_path)\n",
    "        self.trained = True"
   ]
  },
  {
   "cell_type": "code",
   "execution_count": 23,
   "metadata": {},
   "outputs": [],
   "source": [
    "params = {\n",
    "    'num_classes': num_classes,\n",
    "    'log_path': 'log/',\n",
    "    'cp_path': 'checkpoint/',\n",
    "    'model_path': 'model/',\n",
    "    'mode': 'fe',\n",
    "    'lr': 0.001,\n",
    "    'epoch': 10,\n",
    "    'network_params': {\n",
    "    'include_top' : False, \n",
    "    'weights' : 'imagenet', \n",
    "    'input_shape' : input_shape + (3,)\n",
    "    }\n",
    "}"
   ]
  },
  {
   "cell_type": "code",
   "execution_count": 24,
   "metadata": {},
   "outputs": [],
   "source": [
    "inception = Model(name='inceptionv3', class_weight=class_weight, params=params)\n",
    "xception = Model(name='xception', class_weight=class_weight, params=params)"
   ]
  },
  {
   "cell_type": "code",
   "execution_count": 25,
   "metadata": {},
   "outputs": [
    {
     "name": "stdout",
     "output_type": "stream",
     "text": [
      "==========================Downloading inceptionv3==========================\n",
      "=============================Download Complete=============================\n",
      "===============================Adding layers===============================\n",
      "===============================Added layers================================\n",
      "===========Saving weights to weight_path/inceptionv3_weights.h5============\n",
      "===============================Saved weights===============================\n"
     ]
    }
   ],
   "source": [
    "inception.construct_model()"
   ]
  },
  {
   "cell_type": "code",
   "execution_count": 17,
   "metadata": {},
   "outputs": [
    {
     "name": "stdout",
     "output_type": "stream",
     "text": [
      "===========================Downloading xception============================\n",
      "=============================Download Complete=============================\n",
      "===============================Adding layers===============================\n",
      "===============================Added layers================================\n",
      "=============Saving weights to weight_path/xception_weights.h5=============\n",
      "===============================Saved weights===============================\n"
     ]
    }
   ],
   "source": [
    "xception.construct_model()"
   ]
  },
  {
   "cell_type": "code",
   "execution_count": 18,
   "metadata": {},
   "outputs": [
    {
     "name": "stdout",
     "output_type": "stream",
     "text": [
      "_________________________________________________________________\n",
      "Layer (type)                 Output Shape              Param #   \n",
      "=================================================================\n",
      "inception_v3 (Model)         (None, 5, 5, 2048)        21802784  \n",
      "_________________________________________________________________\n",
      "global_average_pooling2d_2 ( (None, 2048)              0         \n",
      "_________________________________________________________________\n",
      "dense_2 (Dense)              (None, 19)                38931     \n",
      "=================================================================\n",
      "Total params: 21,841,715\n",
      "Trainable params: 38,931\n",
      "Non-trainable params: 21,802,784\n",
      "_________________________________________________________________\n"
     ]
    }
   ],
   "source": [
    "inception.model.summary()"
   ]
  },
  {
   "cell_type": "code",
   "execution_count": 19,
   "metadata": {},
   "outputs": [
    {
     "name": "stdout",
     "output_type": "stream",
     "text": [
      "_________________________________________________________________\n",
      "Layer (type)                 Output Shape              Param #   \n",
      "=================================================================\n",
      "xception (Model)             (None, 7, 7, 2048)        20861480  \n",
      "_________________________________________________________________\n",
      "global_average_pooling2d_3 ( (None, 2048)              0         \n",
      "_________________________________________________________________\n",
      "dense_3 (Dense)              (None, 19)                38931     \n",
      "=================================================================\n",
      "Total params: 20,900,411\n",
      "Trainable params: 38,931\n",
      "Non-trainable params: 20,861,480\n",
      "_________________________________________________________________\n"
     ]
    }
   ],
   "source": [
    "xception.model.summary()"
   ]
  },
  {
   "cell_type": "markdown",
   "metadata": {},
   "source": [
    "# 모델 훈련 \n",
    "## Feature Extraction"
   ]
  },
  {
   "cell_type": "code",
   "execution_count": null,
   "metadata": {
    "scrolled": true
   },
   "outputs": [],
   "source": [
    "inception.train()\n",
    "inception.save()"
   ]
  },
  {
   "cell_type": "code",
   "execution_count": null,
   "metadata": {},
   "outputs": [],
   "source": [
    "xception.train()\n",
    "xception.save()"
   ]
  },
  {
   "cell_type": "markdown",
   "metadata": {},
   "source": [
    "## Fine Tuning"
   ]
  },
  {
   "cell_type": "code",
   "execution_count": 27,
   "metadata": {},
   "outputs": [],
   "source": [
    "params.update({\n",
    "    'mode': 'ft',\n",
    "    'lr': 0.0001\n",
    "})"
   ]
  },
  {
   "cell_type": "code",
   "execution_count": null,
   "metadata": {},
   "outputs": [
    {
     "name": "stdout",
     "output_type": "stream",
     "text": [
      "=======================training inceptionv3 with ft========================\n",
      "Epoch 1/10\n",
      "21043/21044 [============================>.] - ETA: 0s - loss: 1.0634 - categorical_accuracy: 0.6532 - top_3_accuracy: 0.8888"
     ]
    }
   ],
   "source": [
    "inception.train()\n",
    "inception.save()"
   ]
  },
  {
   "cell_type": "code",
   "execution_count": null,
   "metadata": {},
   "outputs": [],
   "source": [
    "xception.train()\n",
    "xception.save()"
   ]
  },
  {
   "cell_type": "markdown",
   "metadata": {},
   "source": [
    "## 모델 훈련 결과"
   ]
  },
  {
   "cell_type": "code",
   "execution_count": null,
   "metadata": {},
   "outputs": [],
   "source": [
    "import pandas as pd\n",
    "import matplotlib.pyplot as plt\n",
    "\n",
    "headers = [\n",
    "    'epoch',\n",
    "    'categorical_accuracy',\n",
    "    'loss',\n",
    "    'top_3_accuracy',\n",
    "    'val_categorical_accuracy',\n",
    "    'val_loss',\n",
    "    'val_top_3_accuracy'\n",
    "]\n",
    "\n",
    "inceptionv3_fe_log = 'log/inceptionv3_fe.log'\n",
    "inceptionv3_ft_log = 'log/inceptionv3_ft.log'\n",
    "xception_fe_log = 'log/xception_fe.log'\n",
    "xception_ft_log = 'log/xception_ft.log'\n",
    "\n",
    "logs = [inceptionv3_fe_log, inceptionv3_ft_log, xception_fe_log, xception_ft_log]\n",
    "\n",
    "legends = [log.split('/')[1].split('.log')[0] for log in logs]\n",
    "\n",
    "fig = plt.figure(figsize=(20,10))\n",
    "for log in logs:\n",
    "    df = pd.read_csv(log)\n",
    "    # val loss subplot\n",
    "    plt.subplot(2,2,1)\n",
    "    plt.title('Validation Loss')\n",
    "    plt.plot(df.epoch, df.val_loss)\n",
    "    plt.legend(legends)\n",
    "    \n",
    "    # val accuracy subplot\n",
    "    plt.subplot(2,2,2)\n",
    "    plt.title('Validation Accuracy')\n",
    "    plt.plot(df.epoch, df.val_categorical_accuracy)\n",
    "    plt.legend(legends)\n",
    "    \n",
    "    # val top 3 accuracy subplot\n",
    "    plt.subplot(2,2,3)\n",
    "    plt.title('Validation Top 3 Accuracy')\n",
    "    plt.plot(df.epoch, df.val_top_3_accuracy)\n",
    "    plt.legend(legends)\n",
    "\n",
    "plt.show()\n"
   ]
  },
  {
   "cell_type": "markdown",
   "metadata": {},
   "source": [
    "# 모델 성능"
   ]
  },
  {
   "cell_type": "markdown",
   "metadata": {},
   "source": [
    "## 모델 성능 helper functions"
   ]
  },
  {
   "cell_type": "code",
   "execution_count": null,
   "metadata": {},
   "outputs": [],
   "source": [
    "def plot_images(images, cls_true, cls_pred):\n",
    "    \n",
    "    assert len(images) == len(cls_true)\n",
    "    if len(images) == 0: return\n",
    "\n",
    "    num_x_plot = int(np.ceil(len(images)/5))\n",
    "    fig, axes = plt.subplots(num_x_plot , 5 , figsize=(22,len(images)))\n",
    "    interpolation = 'spline16'\n",
    "\n",
    "    fig.subplots_adjust(hspace=0.6)\n",
    "  \n",
    "    for i, ax in enumerate(axes.flat):\n",
    "        if i < len(images):\n",
    "            ax.imshow(images[i], interpolation=interpolation)\n",
    "            cls_pred_name = cls_pred.argsort(axis=1)[i][-3:][::-1]\n",
    "            cls_pred_prob = np.sort(cls_pred, axis=1)[i][-3:][::-1]\n",
    "            cls_true_name = cls_true[i]\n",
    "            xlabel = \"\"\n",
    "            for idx, class_name in enumerate(cls_pred_name):\n",
    "                xlabel += \"Pred {} : {}, score: {:.04f} \\n\".format(idx, idx_cls[class_name], cls_pred_prob[idx])\n",
    "                xlabel += \"True:{}\".format(idx_cls[cls_true_name])\n",
    "                ax.set_xlabel(xlabel, fontsize=15.0)\n",
    "        ax.set_xticks([])\n",
    "        ax.set_yticks([])\n",
    "    plt.tight_layout()\n",
    "    plt.show()\n",
    "    \n",
    "def load_images(image_paths):\n",
    "    images = [plt.imread(path) for path in image_paths]\n",
    "    return np.asarray(images)\n",
    "\n",
    "def print_errors(class_num, cls_test, cls_pred, size=15):\n",
    "    generator_test.reset()\n",
    "\n",
    "    cls_pred_argmax = cls_pred.argmax(axis=1) # 예측 클래스 어래이\n",
    "    incorrect = (cls_pred_argmax != cls_test) # 틀린 예측 인덱스\n",
    "    true_incorrect = cls_test[incorrect]\n",
    "    pred_incorrect = cls_pred_argmax[incorrect]\n",
    "\n",
    "    pred_idx = np.argwhere(pred_incorrect == class_num).flatten() \n",
    "\n",
    "    print('예측 틀린 개수:{}'.format(len(pred_idx)))\n",
    "\n",
    "    rdm_idx = np.random.randint(0, len(pred_idx), size)\n",
    "    # 틀린 index 중 주어진 카테고리 번호의 prediction 이 틀린 index 중 랜덤한 size개의 index의 image_path\n",
    "    image_path = np.array(path_join(test_dir_name, generator_test.filenames))[incorrect][pred_idx][rdm_idx]\n",
    "    image = load_images(image_path)\n",
    "\n",
    "    true_incorrect = true_incorrect[pred_idx][rdm_idx]\n",
    "    pred_incorrect = cls_pred[incorrect][pred_idx][rdm_idx]\n",
    "\n",
    "    plot_images(images=image, cls_true=true_incorrect, cls_pred=pred_incorrect)\n",
    "    \n",
    "    \n",
    "def print_confusion_matrix(cls_test, cls_pred, labels, labels_actual):\n",
    "  \n",
    "    cm = confusion_matrix(y_true=cls_test,\n",
    "                          y_pred=cls_pred.argmax(axis=1),\n",
    "                          labels=labels)\n",
    "    \n",
    "    true_pos = np.diag(cm)\n",
    "    true_pos_false_pos = np.sum(cm, axis=0).astype(float)\n",
    "    true_pos_false_neg = np.sum(cm, axis=1).astype(float)\n",
    "\n",
    "    precision = true_pos / (true_pos_false_pos)\n",
    "    recall = true_pos / (true_pos_false_neg)\n",
    "\n",
    "    # please take care of divison by zero\n",
    "    precision[np.isnan(precision)] = 0.0\n",
    "    recall[np.isnan(recall)] = 0.0\n",
    "\n",
    "    plt.figure(figsize=(20,10))\n",
    "    sns.heatmap(cm, \n",
    "                annot=True, \n",
    "                xticklabels=label_actual, \n",
    "                yticklabels=label_actual, \n",
    "                fmt='g')\n",
    "\n",
    "    plt.xlabel(\"predicted label\")\n",
    "    plt.ylabel(\"actual label\")\n",
    "    \n",
    "    for i, class_name in enumerate(label_actual):\n",
    "        print(\"({0}) {1}: recall={2:.2f}, precision={3:.2f}\".format(i, class_name , recall[i], precision[i]))"
   ]
  },
  {
   "cell_type": "code",
   "execution_count": null,
   "metadata": {},
   "outputs": [],
   "source": [
    "TEST_PATH = '../testing'\n",
    "datagen_test = ImageDataGenerator(rescale=1./255)\n",
    "\n",
    "batch_size = 256\n",
    "\n",
    "generator_test = datagen_test.flow_from_directory(directory=TEST_PATH,\n",
    "                                                  target_size=input_shape,\n",
    "                                                  batch_size=batch_size,\n",
    "                                                  shuffle=False\n",
    "                                                  )\n",
    "\n",
    "step_size = generator_test.n / batch_size + 1\n",
    "\n",
    "# model로 test set 추론\n",
    "xception_pred = xception.model.predict_generator(generator_test, steps=step_size, verbose=1)\n",
    "inception_pred = inception.model.predict_generator(generator_test, steps=step_size, verbose=1)\n",
    "\n",
    "classes = np.sort(generator_test.class_indices.values()) # 카테고리 번호 \n",
    "classes_actual = np.sort(generator_test.class_indices.keys()) # 카테고리 명\n",
    "\n",
    "cls_test = generator_test.classes\n",
    "\n",
    "idx_cls = generator_test.class_indices()"
   ]
  },
  {
   "cell_type": "code",
   "execution_count": null,
   "metadata": {},
   "outputs": [],
   "source": [
    "# Xception model fine tuning confusion matrix\n",
    "print_confusion_matrix(cls_test, xception_pred, classes, classes_actual)"
   ]
  },
  {
   "cell_type": "code",
   "execution_count": null,
   "metadata": {},
   "outputs": [],
   "source": [
    "# Inception model fine tuning confusion matrix\n",
    "print_confusion_matrix(cls_test, inception_pred, classes, classes_actual)"
   ]
  },
  {
   "cell_type": "code",
   "execution_count": null,
   "metadata": {},
   "outputs": [],
   "source": [
    "print_errors(0, cls_test, xception_pred)"
   ]
  },
  {
   "cell_type": "code",
   "execution_count": null,
   "metadata": {},
   "outputs": [],
   "source": [
    "print_errors(10, cls_test, xception_pred)"
   ]
  },
  {
   "cell_type": "code",
   "execution_count": null,
   "metadata": {},
   "outputs": [],
   "source": [
    "print_errors(6, cls_test, xception_pred)"
   ]
  }
 ],
 "metadata": {
  "kernelspec": {
   "display_name": "Python 2",
   "language": "python",
   "name": "python2"
  }
 },
 "nbformat": 4,
 "nbformat_minor": 2
}
